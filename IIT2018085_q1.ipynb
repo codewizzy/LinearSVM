{
  "nbformat": 4,
  "nbformat_minor": 0,
  "metadata": {
    "colab": {
      "name": "IIT2018085_q1.ipynb",
      "provenance": []
    },
    "kernelspec": {
      "name": "python3",
      "display_name": "Python 3"
    }
  },
  "cells": [
    {
      "cell_type": "code",
      "metadata": {
        "id": "6H-ltKAyZuCu"
      },
      "source": [
        "#IIT2018085\r\n",
        "\r\n",
        "import pandas\r\n",
        "from math import inf\r\n",
        "import matplotlib.pyplot as plt\r\n",
        "from sklearn import preprocessing\r\n",
        "import numpy as np\r\n"
      ],
      "execution_count": 131,
      "outputs": []
    },
    {
      "cell_type": "code",
      "metadata": {
        "id": "JetsilbvW0-Z"
      },
      "source": [
        "#splitting the dataset into two sets\r\n",
        "# 1. Trainging set (60%)\r\n",
        "# 2. Testing set   (40%)\r\n",
        "\r\n",
        "def train_test_split(X, y, test_size=0.33, shuffle=True, seed=None):\r\n",
        "    if shuffle:\r\n",
        "        X, y = shuffle_data(X, y, seed)\r\n",
        "        \r\n",
        "    split_i = len(y) - int(len(y) // (1 / test_size))\r\n",
        "    X_train, X_test = X[:split_i], X[split_i:]\r\n",
        "    y_train, y_test = y[:split_i], y[split_i:]\r\n",
        "\r\n",
        "    return X_train, X_test, y_train, y_test"
      ],
      "execution_count": 132,
      "outputs": []
    },
    {
      "cell_type": "code",
      "metadata": {
        "id": "WPTinE01XzO3"
      },
      "source": [
        "def calculateAccuracy(y_true, y_pred):\r\n",
        "    accuracy = np.sum(y_true == y_pred) / len(y_true)\r\n",
        "    return accuracy"
      ],
      "execution_count": 133,
      "outputs": []
    },
    {
      "cell_type": "code",
      "metadata": {
        "id": "kscjT76zTV39"
      },
      "source": [
        "#defining the class SVM with learning rate .1% and epochs 100\r\n",
        "\r\n",
        "class SVM:\r\n",
        "\r\n",
        "    def __init__(self, learningRate=0.001, Lambda=0.01, Epochs=100):\r\n",
        "        self.learningRate = learningRate\r\n",
        "        self.Lambda = Lambda\r\n",
        "        self.Epochs = Epochs\r\n",
        "        self.weights = None\r\n",
        "        self.bias = None\r\n",
        "\r\n",
        "    def fit(self, X, y):\r\n",
        "        n_samples, featN = X.shape\r\n",
        "\r\n",
        "        y_ = np.where(y <= 0, -1, 1)\r\n",
        "\r\n",
        "        self.weights = np.zeros(featN)\r\n",
        "        self.bias = 0\r\n",
        "\r\n",
        "        for _ in range(self.Epochs):\r\n",
        "            for idx, x_i in enumerate(X):\r\n",
        "                condition = y_[idx] * (np.dot(x_i, self.weights) - self.bias) >= 1\r\n",
        "                if condition:\r\n",
        "                    self.weights -= self.learningRate * (2 * self.Lambda * self.weights)\r\n",
        "                else:\r\n",
        "                    self.weights -= self.learningRate * (2 * self.Lambda * self.weights - np.dot(x_i, y_[idx]))\r\n",
        "                    self.bias -= self.learningRate * y_[idx]\r\n",
        "\r\n",
        "    def predict(self, X):\r\n",
        "        linear_Output = np.dot(X, self.weights) - self.bias\r\n",
        "        return np.sign(linear_Output)"
      ],
      "execution_count": 134,
      "outputs": []
    },
    {
      "cell_type": "code",
      "metadata": {
        "id": "Cn3Uz5-1y1yy"
      },
      "source": [
        "def shuffle_data(X, y, seed=None):\r\n",
        "    if seed:\r\n",
        "        np.random.seed(seed)\r\n",
        "    idx = np.arange(X.shape[0])\r\n",
        "    np.random.shuffle(idx)\r\n",
        "    return X[idx], y[idx]"
      ],
      "execution_count": 135,
      "outputs": []
    },
    {
      "cell_type": "code",
      "metadata": {
        "id": "Pn-JGfy2E3oc"
      },
      "source": [
        "\r\n",
        "dataset=pandas.read_csv('ionosphere.data',header = None)\r\n",
        "x = dataset.iloc[:, :-1]\r\n",
        "y = dataset.iloc[:, -1]\r\n",
        "\r\n",
        "x=x.values\r\n",
        "y=y.values\r\n",
        "\r\n",
        "le = preprocessing.LabelEncoder()\r\n",
        "y=le.fit_transform(y)\r\n",
        "y = np.where(y == 0, -1, 1)\r\n",
        "x_train, x_test, y_train, y_test = train_test_split(x, y, test_size=0.38)\r\n"
      ],
      "execution_count": 136,
      "outputs": []
    },
    {
      "cell_type": "code",
      "metadata": {
        "id": "TmjZ-FbHVQU_",
        "colab": {
          "base_uri": "https://localhost:8080/"
        },
        "outputId": "4b63e19c-2775-4f98-aed1-f862bafb607c"
      },
      "source": [
        "y"
      ],
      "execution_count": 137,
      "outputs": [
        {
          "output_type": "execute_result",
          "data": {
            "text/plain": [
              "array([ 1, -1,  1, -1,  1, -1,  1, -1,  1, -1,  1, -1,  1, -1,  1, -1,  1,\n",
              "       -1,  1, -1,  1, -1,  1, -1,  1, -1,  1, -1,  1, -1,  1, -1,  1, -1,\n",
              "        1, -1,  1, -1,  1, -1,  1, -1,  1, -1,  1, -1,  1, -1,  1, -1,  1,\n",
              "       -1,  1, -1,  1, -1,  1, -1,  1, -1,  1, -1,  1, -1,  1, -1,  1, -1,\n",
              "        1, -1,  1, -1,  1, -1,  1, -1,  1, -1,  1, -1,  1, -1,  1, -1,  1,\n",
              "       -1,  1, -1,  1, -1,  1, -1,  1, -1,  1, -1,  1,  1, -1,  1, -1,  1,\n",
              "       -1,  1, -1,  1, -1,  1, -1,  1, -1,  1, -1,  1, -1,  1, -1,  1, -1,\n",
              "        1, -1,  1, -1,  1, -1,  1, -1,  1, -1,  1, -1,  1, -1,  1, -1,  1,\n",
              "       -1,  1, -1,  1, -1,  1, -1,  1, -1,  1, -1,  1, -1,  1, -1,  1, -1,\n",
              "        1, -1,  1, -1,  1, -1,  1, -1,  1, -1,  1, -1,  1, -1,  1, -1,  1,\n",
              "       -1,  1, -1,  1, -1,  1, -1,  1, -1,  1, -1,  1, -1,  1, -1,  1, -1,\n",
              "        1, -1,  1, -1,  1, -1,  1, -1,  1, -1,  1, -1,  1, -1,  1, -1,  1,\n",
              "       -1,  1, -1,  1, -1,  1, -1,  1, -1,  1, -1,  1, -1,  1, -1,  1, -1,\n",
              "        1, -1,  1, -1,  1, -1,  1, -1,  1, -1,  1, -1,  1, -1,  1, -1,  1,\n",
              "       -1,  1, -1,  1, -1,  1, -1,  1, -1,  1, -1,  1, -1,  1, -1,  1,  1,\n",
              "        1,  1,  1,  1,  1,  1,  1,  1,  1,  1,  1,  1,  1,  1,  1,  1,  1,\n",
              "        1,  1,  1,  1,  1,  1,  1,  1,  1,  1,  1,  1,  1,  1,  1,  1,  1,\n",
              "        1,  1,  1,  1,  1,  1,  1,  1,  1,  1,  1,  1,  1,  1,  1,  1,  1,\n",
              "        1,  1,  1,  1,  1,  1,  1,  1,  1,  1,  1,  1,  1,  1,  1,  1,  1,\n",
              "        1,  1,  1,  1,  1,  1,  1,  1,  1,  1,  1,  1,  1,  1,  1,  1,  1,\n",
              "        1,  1,  1,  1,  1,  1,  1,  1,  1,  1,  1])"
            ]
          },
          "metadata": {
            "tags": []
          },
          "execution_count": 137
        }
      ]
    },
    {
      "cell_type": "code",
      "metadata": {
        "colab": {
          "base_uri": "https://localhost:8080/"
        },
        "id": "iMfeSJEKVdjg",
        "outputId": "8cf499a2-5cb4-4cbd-c8bf-e46247e06710"
      },
      "source": [
        "classifier = SVM()\r\n",
        "classifier.fit(x_train, y_train)\r\n",
        "print(classifier.weights, classifier.bias)"
      ],
      "execution_count": 138,
      "outputs": [
        {
          "output_type": "stream",
          "text": [
            "[ 0.24828377  0.          0.58681809  0.37430891  0.63161871  0.17882133\n",
            "  0.35257281  0.48736864  0.03405053  0.09140463 -0.24746857 -0.04982891\n",
            " -0.0281109   0.21058523  0.35025176  0.31411427 -0.01588919 -0.05168182\n",
            "  0.17453162  0.05225868  0.2094522  -0.59594603  0.17270265 -0.0466898\n",
            "  0.19603368  0.15553969 -0.68474442 -0.01060297  0.23040157  0.19578952\n",
            "  0.20813525 -0.3008055  -0.1217177  -0.05574284] 0.9090000000000008\n"
          ],
          "name": "stdout"
        }
      ]
    },
    {
      "cell_type": "code",
      "metadata": {
        "id": "m77icnqjV5S9"
      },
      "source": [
        "#testing the SVM\r\n",
        "predictions = classifier.predict(x_test)"
      ],
      "execution_count": 139,
      "outputs": []
    },
    {
      "cell_type": "code",
      "metadata": {
        "colab": {
          "base_uri": "https://localhost:8080/"
        },
        "id": "0QrgtmyYWbSO",
        "outputId": "b677420f-56e0-41ce-9121-e404d2b7229a"
      },
      "source": [
        "#calculating Accuracy\r\n",
        "accuracy = calculateAccuracy(y_test, predictions)\r\n",
        "print (\"Thus accuracy obtained is \", accuracy)"
      ],
      "execution_count": 140,
      "outputs": [
        {
          "output_type": "stream",
          "text": [
            "Thus accuracy obtained is  0.9022556390977443\n"
          ],
          "name": "stdout"
        }
      ]
    }
  ]
}